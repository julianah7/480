{
 "cells": [
  {
   "cell_type": "markdown",
   "metadata": {},
   "source": [
    "# Simple Linear Regression"
   ]
  },
  {
   "cell_type": "markdown",
   "metadata": {},
   "source": [
    "pandas provides excellent data reading and querying module, dataframe which allows you to import data like SQL- queries"
   ]
  },
  {
   "cell_type": "markdown",
   "metadata": {},
   "source": [
    "Below is imported house price records from Trulia. "
   ]
  },
  {
   "cell_type": "code",
   "execution_count": 11,
   "metadata": {},
   "outputs": [
    {
     "data": {
      "text/html": [
       "<div>\n",
       "<style scoped>\n",
       "    .dataframe tbody tr th:only-of-type {\n",
       "        vertical-align: middle;\n",
       "    }\n",
       "\n",
       "    .dataframe tbody tr th {\n",
       "        vertical-align: top;\n",
       "    }\n",
       "\n",
       "    .dataframe thead th {\n",
       "        text-align: right;\n",
       "    }\n",
       "</style>\n",
       "<table border=\"1\" class=\"dataframe\">\n",
       "  <thead>\n",
       "    <tr style=\"text-align: right;\">\n",
       "      <th></th>\n",
       "      <th>ID</th>\n",
       "      <th>price</th>\n",
       "      <th>bedroom</th>\n",
       "      <th>bathroom</th>\n",
       "      <th>house_type</th>\n",
       "      <th>lot_size</th>\n",
       "      <th>built_in</th>\n",
       "      <th>area</th>\n",
       "      <th>days</th>\n",
       "      <th>views</th>\n",
       "    </tr>\n",
       "  </thead>\n",
       "  <tbody>\n",
       "    <tr>\n",
       "      <th>0</th>\n",
       "      <td>993</td>\n",
       "      <td>229900</td>\n",
       "      <td>3</td>\n",
       "      <td>2</td>\n",
       "      <td>single-family home</td>\n",
       "      <td>10018</td>\n",
       "      <td>2002</td>\n",
       "      <td>1541</td>\n",
       "      <td>77</td>\n",
       "      <td>1357</td>\n",
       "    </tr>\n",
       "    <tr>\n",
       "      <th>1</th>\n",
       "      <td>994</td>\n",
       "      <td>149900</td>\n",
       "      <td>4</td>\n",
       "      <td>2</td>\n",
       "      <td>single-family home</td>\n",
       "      <td>8712</td>\n",
       "      <td>1975</td>\n",
       "      <td>1810</td>\n",
       "      <td>5</td>\n",
       "      <td>1282</td>\n",
       "    </tr>\n",
       "    <tr>\n",
       "      <th>2</th>\n",
       "      <td>995</td>\n",
       "      <td>229900</td>\n",
       "      <td>3</td>\n",
       "      <td>2</td>\n",
       "      <td>single-family home</td>\n",
       "      <td>13504</td>\n",
       "      <td>1988</td>\n",
       "      <td>1456</td>\n",
       "      <td>76</td>\n",
       "      <td>947</td>\n",
       "    </tr>\n",
       "    <tr>\n",
       "      <th>3</th>\n",
       "      <td>996</td>\n",
       "      <td>359000</td>\n",
       "      <td>5</td>\n",
       "      <td>4</td>\n",
       "      <td>single-family home</td>\n",
       "      <td>10130</td>\n",
       "      <td>1997</td>\n",
       "      <td>2903</td>\n",
       "      <td>79</td>\n",
       "      <td>951</td>\n",
       "    </tr>\n",
       "    <tr>\n",
       "      <th>4</th>\n",
       "      <td>999</td>\n",
       "      <td>394000</td>\n",
       "      <td>3</td>\n",
       "      <td>2</td>\n",
       "      <td>single-family home</td>\n",
       "      <td>18295</td>\n",
       "      <td>2001</td>\n",
       "      <td>2616</td>\n",
       "      <td>73</td>\n",
       "      <td>709</td>\n",
       "    </tr>\n",
       "    <tr>\n",
       "      <th>5</th>\n",
       "      <td>1000</td>\n",
       "      <td>349900</td>\n",
       "      <td>3</td>\n",
       "      <td>2</td>\n",
       "      <td>single-family home</td>\n",
       "      <td>204732</td>\n",
       "      <td>1967</td>\n",
       "      <td>3850</td>\n",
       "      <td>42</td>\n",
       "      <td>366</td>\n",
       "    </tr>\n",
       "    <tr>\n",
       "      <th>6</th>\n",
       "      <td>1002</td>\n",
       "      <td>148500</td>\n",
       "      <td>3</td>\n",
       "      <td>1</td>\n",
       "      <td>single-family home</td>\n",
       "      <td>9147</td>\n",
       "      <td>1959</td>\n",
       "      <td>1000</td>\n",
       "      <td>17</td>\n",
       "      <td>328</td>\n",
       "    </tr>\n",
       "    <tr>\n",
       "      <th>7</th>\n",
       "      <td>1003</td>\n",
       "      <td>134900</td>\n",
       "      <td>2</td>\n",
       "      <td>2</td>\n",
       "      <td>townhouse</td>\n",
       "      <td>2300</td>\n",
       "      <td>1994</td>\n",
       "      <td>920</td>\n",
       "      <td>56</td>\n",
       "      <td>328</td>\n",
       "    </tr>\n",
       "    <tr>\n",
       "      <th>8</th>\n",
       "      <td>1004</td>\n",
       "      <td>265000</td>\n",
       "      <td>3</td>\n",
       "      <td>3</td>\n",
       "      <td>single-family home</td>\n",
       "      <td>13939</td>\n",
       "      <td>1998</td>\n",
       "      <td>2705</td>\n",
       "      <td>12</td>\n",
       "      <td>362</td>\n",
       "    </tr>\n",
       "    <tr>\n",
       "      <th>9</th>\n",
       "      <td>1005</td>\n",
       "      <td>149900</td>\n",
       "      <td>4</td>\n",
       "      <td>3</td>\n",
       "      <td>townhouse</td>\n",
       "      <td>2291</td>\n",
       "      <td>1999</td>\n",
       "      <td>1440</td>\n",
       "      <td>4</td>\n",
       "      <td>137</td>\n",
       "    </tr>\n",
       "  </tbody>\n",
       "</table>\n",
       "</div>"
      ],
      "text/plain": [
       "     ID   price  bedroom  bathroom          house_type  lot_size  built_in  \\\n",
       "0   993  229900        3         2  single-family home     10018      2002   \n",
       "1   994  149900        4         2  single-family home      8712      1975   \n",
       "2   995  229900        3         2  single-family home     13504      1988   \n",
       "3   996  359000        5         4  single-family home     10130      1997   \n",
       "4   999  394000        3         2  single-family home     18295      2001   \n",
       "5  1000  349900        3         2  single-family home    204732      1967   \n",
       "6  1002  148500        3         1  single-family home      9147      1959   \n",
       "7  1003  134900        2         2           townhouse      2300      1994   \n",
       "8  1004  265000        3         3  single-family home     13939      1998   \n",
       "9  1005  149900        4         3           townhouse      2291      1999   \n",
       "\n",
       "   area  days  views  \n",
       "0  1541    77   1357  \n",
       "1  1810     5   1282  \n",
       "2  1456    76    947  \n",
       "3  2903    79    951  \n",
       "4  2616    73    709  \n",
       "5  3850    42    366  \n",
       "6  1000    17    328  \n",
       "7   920    56    328  \n",
       "8  2705    12    362  \n",
       "9  1440     4    137  "
      ]
     },
     "execution_count": 11,
     "metadata": {},
     "output_type": "execute_result"
    }
   ],
   "source": [
    "import pandas\n",
    "df = pandas.read_excel('house_price.xlsx')\n",
    "df[:10]"
   ]
  },
  {
   "cell_type": "markdown",
   "metadata": {},
   "source": [
    "# Prepare the data "
   ]
  },
  {
   "cell_type": "markdown",
   "metadata": {},
   "source": [
    "We want to use the price as the dependent variable and the area as the independent variable, i.e., use the house areas to predict the house prices"
   ]
  },
  {
   "cell_type": "code",
   "execution_count": 12,
   "metadata": {},
   "outputs": [
    {
     "name": "stdout",
     "output_type": "stream",
     "text": [
      "0    1541\n",
      "1    1810\n",
      "2    1456\n",
      "3    2903\n",
      "4    2616\n",
      "5    3850\n",
      "6    1000\n",
      "7     920\n",
      "8    2705\n",
      "9    1440\n",
      "Name: area, dtype: int64\n",
      "[[1541]\n",
      " [1810]\n",
      " [1456]\n",
      " [2903]\n",
      " [2616]\n",
      " [3850]\n",
      " [1000]\n",
      " [ 920]\n",
      " [2705]\n",
      " [1440]]\n"
     ]
    }
   ],
   "source": [
    "X = df['area']\n",
    "print (X[:10])\n",
    "X_reshape = X.values.reshape(-1,1) # reshape the X to a 2D array\n",
    "print (X_reshape[:10])\n",
    "y = df['price']"
   ]
  },
  {
   "cell_type": "markdown",
   "metadata": {},
   "source": [
    "sklearn provides a split function that can split the data into training data and testing data."
   ]
  },
  {
   "cell_type": "code",
   "execution_count": 13,
   "metadata": {},
   "outputs": [
    {
     "name": "stdout",
     "output_type": "stream",
     "text": [
      "number of training data: 28 28\n",
      "number of testing data: 13 13\n"
     ]
    }
   ],
   "source": [
    "import sklearn\n",
    "from sklearn.model_selection import train_test_split\n",
    "X_train, X_test, y_train, y_test = train_test_split(X_reshape,y, test_size = 0.3) # put 30% data as the testing data\n",
    "\n",
    "print ('number of training data:',len(X_train),len(y_train))\n",
    "print ('number of testing data:',len(X_test),len(y_test))"
   ]
  },
  {
   "cell_type": "markdown",
   "metadata": {},
   "source": [
    "# Train the model\n",
    "use the Linear Regression to estimate parameters from the training data. "
   ]
  },
  {
   "cell_type": "code",
   "execution_count": 14,
   "metadata": {},
   "outputs": [
    {
     "name": "stdout",
     "output_type": "stream",
     "text": [
      "beta [73.5556283]\n",
      "alpha 173026.555658775\n"
     ]
    }
   ],
   "source": [
    "from sklearn import linear_model\n",
    "slr = linear_model.LinearRegression() #create an linear regression model objective \n",
    "\n",
    "slr.fit(X_train,y_train) # estimate the patameters\n",
    "print('beta',slr.coef_)\n",
    "print('alpha',slr.intercept_)"
   ]
  },
  {
   "cell_type": "markdown",
   "metadata": {},
   "source": [
    "# Evaluate the Model"
   ]
  },
  {
   "cell_type": "markdown",
   "metadata": {},
   "source": [
    "Let's calculate the mean squared error and the r square of the model"
   ]
  },
  {
   "cell_type": "code",
   "execution_count": 15,
   "metadata": {},
   "outputs": [
    {
     "name": "stdout",
     "output_type": "stream",
     "text": [
      "mean square error: 48257860298.74796\n",
      "r square: 0.17768316224050262\n"
     ]
    }
   ],
   "source": [
    "from sklearn.metrics import mean_squared_error, r2_score\n",
    "\n",
    "y_predict = slr.predict(X_test) # predict the Y based on the model\n",
    "mean_squared_error = mean_squared_error(y_test,y_predict) # calculate mean square error\n",
    "r2_score = r2_score(y_test,y_predict) #calculate r square\n",
    "\n",
    "print ('mean square error:',mean_squared_error )\n",
    "print ('r square:',r2_score )"
   ]
  },
  {
   "cell_type": "markdown",
   "metadata": {},
   "source": [
    "# Visualize the model\n",
    "using matplotlib to visualize the data "
   ]
  },
  {
   "cell_type": "code",
   "execution_count": 16,
   "metadata": {},
   "outputs": [
    {
     "data": {
      "image/png": "[encoded data removed]",
      "text/plain": [
       "<Figure size 432x288 with 1 Axes>"
      ]
     },
     "metadata": {},
     "output_type": "display_data"
    }
   ],
   "source": [
    "import matplotlib.pyplot as plt\n",
    "%matplotlib inline\n",
    "\n",
    "plt.scatter(X_test, y_test,  color='black') # create a scatterplot to visualize the test data\n",
    "plt.plot(X_test, y_predict, color='blue', linewidth=3) # add a line chart to visualize the model\n",
    "\n",
    "plt.xlabel('area')\n",
    "plt.ylabel('price')\n",
    "\n",
    "plt.show()"
   ]
  },
  {
   "cell_type": "code",
   "execution_count": null,
   "metadata": {},
   "outputs": [],
   "source": []
  }
 ],
 "metadata": {
  "kernelspec": {
   "display_name": "Python 3",
   "language": "python",
   "name": "python3"
  },
  "language_info": {
   "codemirror_mode": {
    "name": "ipython",
    "version": 3
   },
   "file_extension": ".py",
   "mimetype": "text/x-python",
   "name": "python",
   "nbconvert_exporter": "python",
   "pygments_lexer": "ipython3",
   "version": "3.6.5"
  }
 },
 "nbformat": 4,
 "nbformat_minor": 2
}
